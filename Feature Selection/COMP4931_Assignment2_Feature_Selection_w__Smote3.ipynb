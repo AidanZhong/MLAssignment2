{
 "cells": [
  {
   "cell_type": "code",
   "execution_count": null,
   "metadata": {
    "id": "peVnQIWzXwa9"
   },
   "outputs": [],
   "source": [
    "import pandas as pd\n",
    "import numpy as np\n",
    "import matplotlib.pyplot as plt\n",
    "from sklearn.impute import SimpleImputer\n",
    "from sklearn.feature_selection import RFECV\n",
    "from sklearn.ensemble import RandomForestClassifier\n",
    "from sklearn.decomposition import PCA\n",
    "from scipy.stats import zscore\n",
    "from sklearn.model_selection import train_test_split\n",
    "from sklearn.ensemble import GradientBoostingClassifier\n",
    "from sklearn.metrics import classification_report, confusion_matrix, roc_curve, auc"
   ]
  },
  {
   "cell_type": "markdown",
   "metadata": {
    "id": "WUTl0jc1Xwa-"
   },
   "source": [
    "## Load Dataset"
   ]
  },
  {
   "metadata": {},
   "cell_type": "code",
   "outputs": [],
   "execution_count": null,
   "source": "df = pd.read_csv(\"../output.csv\")"
  },
  {
   "metadata": {},
   "cell_type": "code",
   "outputs": [],
   "execution_count": null,
   "source": "df.head()"
  },
  {
   "metadata": {},
   "cell_type": "code",
   "outputs": [],
   "execution_count": null,
   "source": "df.describe()"
  },
  {
   "metadata": {},
   "cell_type": "code",
   "outputs": [],
   "execution_count": null,
   "source": "df.info()"
  },
  {
   "metadata": {},
   "cell_type": "code",
   "outputs": [],
   "execution_count": null,
   "source": [
    "# df.drop(\"ID\", axis=1, inplace=True)\n",
    "# df.head()"
   ]
  },
  {
   "metadata": {},
   "cell_type": "markdown",
   "source": "## Data Imputation"
  },
  {
   "metadata": {},
   "cell_type": "code",
   "outputs": [],
   "execution_count": null,
   "source": [
    "from sklearn.impute import SimpleImputer\n",
    "\n",
    "# imputer = SimpleImputer(strategy='median')\n",
    "#\n",
    "# df.replace(999, np.nan, inplace=True)\n",
    "#\n",
    "# df = pd.DataFrame(imputer.fit_transform(df), columns=df.columns)"
   ]
  },
  {
   "metadata": {},
   "cell_type": "code",
   "outputs": [],
   "execution_count": null,
   "source": "df.describe()"
  },
  {
   "metadata": {},
   "cell_type": "code",
   "outputs": [],
   "execution_count": null,
   "source": [
    "import seaborn as sns\n",
    "\n",
    "print(df['pCR (outcome)'].value_counts())\n",
    "sns.countplot(x=\"pCR (outcome)\", data=df)"
   ]
  },
  {
   "metadata": {},
   "cell_type": "markdown",
   "source": "## Splitting X and Y Dataframes"
  },
  {
   "metadata": {},
   "cell_type": "code",
   "outputs": [],
   "execution_count": null,
   "source": [
    "y_class = df[\"pCR (outcome)\"]\n",
    "y_reg = df[\"RelapseFreeSurvival (outcome)\"]\n",
    "# Aidan tag\n",
    "df.drop(\"pCR (outcome)\", axis=1, inplace=True)\n",
    "df.drop(\"RelapseFreeSurvival (outcome)\", axis=1, inplace=True)"
   ]
  },
  {
   "metadata": {},
   "cell_type": "code",
   "outputs": [],
   "execution_count": null,
   "source": "df.head()"
  },
  {
   "metadata": {},
   "cell_type": "code",
   "outputs": [],
   "execution_count": null,
   "source": [
    "X_clinical = df.iloc[:, :11]\n",
    "X_mri = df.iloc[:, 11:]"
   ]
  },
  {
   "metadata": {},
   "cell_type": "markdown",
   "source": "## Recursive Feature Elimination (RFE) on Clinical Features"
  },
  {
   "metadata": {},
   "cell_type": "code",
   "outputs": [],
   "execution_count": null,
   "source": [
    "from sklearn.feature_selection import RFECV\n",
    "from sklearn.ensemble import RandomForestClassifier\n",
    "\n",
    "model_all = RandomForestClassifier(random_state=42)\n",
    "model_all.fit(X_clinical, y_class)\n",
    "\n",
    "all_importances = model_all.feature_importances_\n",
    "indices = np.argsort(all_importances)[::-1]\n",
    "\n",
    "plt.figure()\n",
    "plt.title(\"Feature Importances of All Clinical Features\")\n",
    "plt.bar(X_clinical.columns[indices], all_importances[indices], color=\"lightsalmon\", align=\"center\")\n",
    "plt.xticks(rotation=90)\n",
    "plt.xlabel(\"Features\")\n",
    "plt.ylabel(\"Importance Score\")\n",
    "plt.tight_layout()\n",
    "plt.show()"
   ]
  },
  {
   "metadata": {},
   "cell_type": "code",
   "outputs": [],
   "execution_count": null,
   "source": [
    "model = RandomForestClassifier(random_state=42)\n",
    "\n",
    "rfecv = RFECV(estimator=model, step=1, cv=5, scoring='accuracy')\n",
    "rfecv.fit(X_clinical, y_class)\n",
    "\n",
    "selected_features = X_clinical.columns[rfecv.support_]\n",
    "print(\"Optimal Number of Features:\", rfecv.n_features_)\n",
    "print(\"Selected Features:\")\n",
    "print(selected_features)"
   ]
  },
  {
   "metadata": {},
   "cell_type": "code",
   "outputs": [],
   "execution_count": null,
   "source": "X_clinical_fs = X_clinical[selected_features]"
  },
  {
   "metadata": {},
   "cell_type": "markdown",
   "source": "## Dimensionality Reduction on MRI Features"
  },
  {
   "metadata": {},
   "cell_type": "code",
   "outputs": [],
   "execution_count": null,
   "source": [
    "from sklearn.decomposition import PCA\n",
    "\n",
    "pca = PCA(n_components=0.95)\n",
    "X_mri_dr = pca.fit_transform(X_mri)\n",
    "\n",
    "print(\"Number of Components Selected:\", pca.n_components_)"
   ]
  },
  {
   "metadata": {},
   "cell_type": "code",
   "outputs": [],
   "execution_count": null,
   "source": [
    "print(X_clinical_fs.shape, type(X_clinical_fs))\n",
    "print(X_mri_dr.shape, type(X_mri_dr))"
   ]
  },
  {
   "metadata": {},
   "cell_type": "code",
   "outputs": [],
   "execution_count": null,
   "source": [
    "X = np.hstack((X_clinical_fs.values, X_mri_dr))\n",
    "X_pd = pd.DataFrame(X)\n",
    "# Aidan tag, output the data after feature selection into a file\n",
    "combined_df = pd.concat([y_reg, X_pd], axis=1)\n",
    "combined_df.drop(columns=0, inplace=True)\n",
    "combined_df.to_csv('output_after_feature_selection.csv')"
   ]
  },
  {
   "cell_type": "code",
   "execution_count": null,
   "metadata": {
    "colab": {
     "base_uri": "https://localhost:8080/"
    },
    "id": "HDw8zKhOXwbF",
    "outputId": "d1635b58-7fe8-4441-80d8-376c5ca46d51"
   },
   "outputs": [
    {
     "data": {
      "text/plain": [
       "((400, 11), tuple)"
      ]
     },
     "execution_count": 19,
     "metadata": {},
     "output_type": "execute_result"
    }
   ],
   "source": [
    "X.shape, type(X.shape)"
   ]
  },
  {
   "cell_type": "code",
   "execution_count": null,
   "metadata": {
    "colab": {
     "base_uri": "https://localhost:8080/"
    },
    "id": "4m5r0J69p-B3",
    "outputId": "41fe75a6-1d2e-4fec-8968-d68eefc23859"
   },
   "outputs": [
    {
     "name": "stdout",
     "output_type": "stream",
     "text": [
      "pCR (outcome)\n",
      "0.0    316\n",
      "1.0     84\n",
      "Name: count, dtype: int64\n"
     ]
    }
   ],
   "source": [
    "print(y_class.value_counts())\n",
    "#sns.countplot(x=\"pCR (outcome)\", data=df)"
   ]
  },
  {
   "cell_type": "markdown",
   "metadata": {
    "id": "V1enYdQ0XwbF"
   },
   "source": [
    "## Z-score Distribution"
   ]
  },
  {
   "cell_type": "code",
   "execution_count": null,
   "metadata": {
    "colab": {
     "base_uri": "https://localhost:8080/",
     "height": 564
    },
    "id": "057eyjzTXwbF",
    "outputId": "7f10af30-204c-447c-d1b5-f084fe89ebe4"
   },
   "outputs": [
    {
     "data": {
      "image/png": "[encoded data removed]",
      "text/plain": [
       "<Figure size 1000x600 with 1 Axes>"
      ]
     },
     "metadata": {},
     "output_type": "display_data"
    }
   ],
   "source": [
    "from scipy.stats import zscore\n",
    "\n",
    "z_scores = np.abs(zscore(df))\n",
    "z_scores = z_scores.to_numpy()\n",
    "z_scores_flat = z_scores.flatten()\n",
    "\n",
    "plt.figure(figsize=(10, 6))\n",
    "sns.histplot(z_scores_flat, bins=30, kde=True)\n",
    "plt.title(\"Distribution of Z-Scores\")\n",
    "plt.xlabel(\"Z-Score\")\n",
    "plt.ylabel(\"Frequency\")\n",
    "plt.axvline(x=3, color='r', linestyle='--', label=\"Outlier threshold = 3 \")\n",
    "plt.legend()\n",
    "plt.show()"
   ]
  },
  {
   "cell_type": "markdown",
   "metadata": {
    "id": "rOsQkwlgXwbG"
   },
   "source": [
    "## Data Splitting"
   ]
  },
  {
   "cell_type": "code",
   "execution_count": null,
   "metadata": {
    "id": "hknsMlY3XwbG"
   },
   "outputs": [],
   "source": [
    "#from sklearn.model_selection import train_test_split\n",
    "\n",
    "X_train, X_test, y_train, y_test = train_test_split(X, y_class, test_size=0.30, random_state=42, stratify=y_class)"
   ]
  },
  {
   "cell_type": "markdown",
   "metadata": {
    "id": "sUc_BIOoXwbG"
   },
   "source": [
    "# Gradient Boosting Classifier"
   ]
  },
  {
   "cell_type": "code",
   "execution_count": null,
   "metadata": {
    "colab": {
     "base_uri": "https://localhost:8080/"
    },
    "id": "L4q6-eIxXwbG",
    "outputId": "d513f703-2897-4fae-a76d-0733e7cb5659"
   },
   "outputs": [
    {
     "name": "stdout",
     "output_type": "stream",
     "text": [
      "Classification Report before SMOTE:\n",
      "              precision    recall  f1-score   support\n",
      "\n",
      "         0.0       0.85      0.82      0.83        95\n",
      "         1.0       0.39      0.44      0.42        25\n",
      "\n",
      "    accuracy                           0.74       120\n",
      "   macro avg       0.62      0.63      0.62       120\n",
      "weighted avg       0.75      0.74      0.75       120\n",
      "\n",
      "Confusion Matrix:\n",
      "[[78 17]\n",
      " [14 11]]\n"
     ]
    }
   ],
   "source": [
    "from sklearn.ensemble import GradientBoostingClassifier\n",
    "from sklearn.metrics import classification_report, confusion_matrix, roc_curve, auc\n",
    "\n",
    "\n",
    "# Calculate class weights\n",
    "class_counts = np.bincount(y_train.astype(int))\n",
    "total_samples = len(y_train)\n",
    "num_classes = len(class_counts)\n",
    "\n",
    "class_weights = {}\n",
    "for i, count in enumerate(class_counts):\n",
    "    class_weights[i] = total_samples / (num_classes * count)\n",
    "\n",
    "# Assign weights to each sample\n",
    "sample_weights = []\n",
    "for label in y_train:\n",
    "    sample_weights.append(class_weights[int(label)])\n",
    "sample_weights = np.array(sample_weights)\n",
    "\n",
    "gbc = GradientBoostingClassifier(random_state=42, loss='log_loss', subsample=0.8, n_estimators=100, learning_rate=0.1, max_depth=3)\n",
    "gbc.fit(X_train, y_train, sample_weight=sample_weights)\n",
    "y_pred = gbc.predict(X_test)\n",
    "\n",
    "print(\"Classification Report before SMOTE:\")\n",
    "print(classification_report(y_test, y_pred))\n",
    "\n",
    "print(\"Confusion Matrix:\")\n",
    "print(confusion_matrix(y_test, y_pred))"
   ]
  },
  {
   "cell_type": "markdown",
   "metadata": {
    "id": "yazQg8oKXwbH"
   },
   "source": [
    "## ROC Curve"
   ]
  },
  {
   "cell_type": "code",
   "execution_count": null,
   "metadata": {
    "colab": {
     "base_uri": "https://localhost:8080/",
     "height": 564
    },
    "id": "dscxxXhsXwbH",
    "outputId": "0010cbe6-36a1-4ce1-f579-3afb6149de53"
   },
   "outputs": [
    {
     "data": {
      "image/png": "[encoded data removed]",
      "text/plain": [
       "<Figure size 800x600 with 1 Axes>"
      ]
     },
     "metadata": {},
     "output_type": "display_data"
    }
   ],
   "source": [
    "# Calculate ROC curve\n",
    "y_pred_proba = gbc.predict_proba(X_test)[:, 1]\n",
    "fpr, tpr, thresholds = roc_curve(y_test, y_pred_proba)\n",
    "\n",
    "# Calculate AUC\n",
    "roc_auc = auc(fpr, tpr)\n",
    "\n",
    "# Plot the ROC curve\n",
    "plt.figure(figsize=(8, 6))\n",
    "plt.plot(fpr, tpr, color='blue', label=f'ROC Curve (AUC = {roc_auc:.2f})')\n",
    "plt.plot([0, 1], [0, 1], color='red', linestyle='--', label='Random Chance')\n",
    "plt.title('ROC Curve')\n",
    "plt.xlabel('False Positive Rate')\n",
    "plt.ylabel('True Positive Rate')\n",
    "plt.legend(loc='lower right')\n",
    "plt.grid()\n",
    "plt.show()"
   ]
  },
  {
   "cell_type": "markdown",
   "metadata": {
    "id": "WNx0uJ5dqw8R"
   },
   "source": [
    "## RFC"
   ]
  },
  {
   "cell_type": "code",
   "execution_count": null,
   "metadata": {
    "colab": {
     "base_uri": "https://localhost:8080/"
    },
    "id": "wpwapoS-q1Fm",
    "outputId": "94a31d1e-7434-417f-cf03-a0f051a68122"
   },
   "outputs": [
    {
     "name": "stdout",
     "output_type": "stream",
     "text": [
      "Model Accuracy: 0.7583333333333333\n",
      "Classification Report before SMOTE:\n",
      "              precision    recall  f1-score   support\n",
      "\n",
      "         0.0       0.81      0.92      0.86        95\n",
      "         1.0       0.33      0.16      0.22        25\n",
      "\n",
      "    accuracy                           0.76       120\n",
      "   macro avg       0.57      0.54      0.54       120\n",
      "weighted avg       0.71      0.76      0.72       120\n",
      "\n"
     ]
    }
   ],
   "source": [
    "from sklearn.metrics import classification_report, accuracy_score\n",
    "from sklearn.ensemble import RandomForestClassifier\n",
    "\n",
    "model = RandomForestClassifier(n_estimators=100, random_state=42)\n",
    "model.fit(X_train, y_train)\n",
    "y_pred = model.predict(X_test)\n",
    "accuracy = accuracy_score(y_test, y_pred)\n",
    "report = classification_report(y_test, y_pred)\n",
    "print(f\"Model Accuracy: {accuracy}\")\n",
    "print(\"Classification Report before SMOTE:\")\n",
    "print(report)"
   ]
  },
  {
   "cell_type": "markdown",
   "metadata": {
    "id": "ry15daK3dWfN"
   },
   "source": [
    "## SMOTE"
   ]
  },
  {
   "cell_type": "markdown",
   "metadata": {
    "id": "xsTzPtwqddDc"
   },
   "source": [
    "Reference from : https://towardsdatascience.com/upsampling-with-smote-for-classification-projects-e91d7c44e4bf"
   ]
  },
  {
   "cell_type": "code",
   "execution_count": null,
   "metadata": {
    "colab": {
     "base_uri": "https://localhost:8080/"
    },
    "id": "RvBAGNt7ehvh",
    "outputId": "cf20452d-48a3-4bdd-e25d-615fbca77e5c"
   },
   "outputs": [
    {
     "name": "stdout",
     "output_type": "stream",
     "text": [
      "Collecting imblearn\n",
      "  Downloading imblearn-0.0-py2.py3-none-any.whl.metadata (355 bytes)\n",
      "Requirement already satisfied: imbalanced-learn in /usr/local/lib/python3.10/dist-packages (from imblearn) (0.12.4)\n",
      "Requirement already satisfied: numpy>=1.17.3 in /usr/local/lib/python3.10/dist-packages (from imbalanced-learn->imblearn) (1.26.4)\n",
      "Requirement already satisfied: scipy>=1.5.0 in /usr/local/lib/python3.10/dist-packages (from imbalanced-learn->imblearn) (1.13.1)\n",
      "Requirement already satisfied: scikit-learn>=1.0.2 in /usr/local/lib/python3.10/dist-packages (from imbalanced-learn->imblearn) (1.5.2)\n",
      "Requirement already satisfied: joblib>=1.1.1 in /usr/local/lib/python3.10/dist-packages (from imbalanced-learn->imblearn) (1.4.2)\n",
      "Requirement already satisfied: threadpoolctl>=2.0.0 in /usr/local/lib/python3.10/dist-packages (from imbalanced-learn->imblearn) (3.5.0)\n",
      "Downloading imblearn-0.0-py2.py3-none-any.whl (1.9 kB)\n",
      "Installing collected packages: imblearn\n",
      "Successfully installed imblearn-0.0\n"
     ]
    }
   ],
   "source": [
    "!pip install imblearn"
   ]
  },
  {
   "cell_type": "code",
   "execution_count": null,
   "metadata": {
    "id": "7U0yr6DKeg5G"
   },
   "outputs": [],
   "source": [
    "from imblearn.over_sampling import SMOTE"
   ]
  },
  {
   "cell_type": "code",
   "execution_count": null,
   "metadata": {
    "colab": {
     "base_uri": "https://localhost:8080/"
    },
    "id": "pE-GGQt6OezD",
    "outputId": "9700593e-50f7-4871-c248-c70d8014c102"
   },
   "outputs": [
    {
     "name": "stdout",
     "output_type": "stream",
     "text": [
      "pCR (outcome)\n",
      "0.0    221\n",
      "1.0    221\n",
      "Name: count, dtype: int64\n"
     ]
    }
   ],
   "source": [
    "# Apply SMOTE to the training data\n",
    "smote = SMOTE( sampling_strategy = 1.0, random_state=42)\n",
    "X_resampled, y_resampled = smote.fit_resample(\n",
    "    X_train, y_train)\n",
    "# Check the class distribution after applying SMOTE\n",
    "print(pd.Series(y_resampled).value_counts())"
   ]
  },
  {
   "cell_type": "markdown",
   "metadata": {
    "id": "QZ6IzQLGSGVD"
   },
   "source": [
    "## GridSearchCV"
   ]
  },
  {
   "cell_type": "code",
   "execution_count": 73,
   "metadata": {
    "colab": {
     "base_uri": "https://localhost:8080/"
    },
    "id": "4p5HquOeSOaV",
    "outputId": "aeae4e89-381e-422c-9585-282580c0057d"
   },
   "outputs": [
    {
     "output_type": "stream",
     "name": "stdout",
     "text": [
      "Performing GridSearchCV...\n",
      "Best Parameters: {'learning_rate': 0.3, 'max_depth': 7, 'n_estimators': 100, 'subsample': 0.8}\n",
      "\n",
      "Classification Report:\n",
      "              precision    recall  f1-score   support\n",
      "\n",
      "         0.0       0.82      0.91      0.86        95\n",
      "         1.0       0.40      0.24      0.30        25\n",
      "\n",
      "    accuracy                           0.77       120\n",
      "   macro avg       0.61      0.57      0.58       120\n",
      "weighted avg       0.73      0.77      0.74       120\n",
      "\n",
      "\n",
      "Confusion Matrix:\n",
      "[[86  9]\n",
      " [19  6]]\n",
      "Performing GridSearchCV...\n"
     ]
    }
   ],
   "source": [
    "from sklearn.model_selection import GridSearchCV, StratifiedKFold\n",
    "from sklearn.pipeline import Pipeline\n",
    "\n",
    "model = GradientBoostingClassifier(random_state=42)\n",
    "\n",
    "param_grid = {\n",
    "    'n_estimators': [100, 200, 300, 400, 500, 600],\n",
    "    'learning_rate': [0.05, 0.1, 0.2, 0.3, 0.4, 0.5],\n",
    "    'max_depth': [3, 4, 5, 6, 7, 8, 9],\n",
    "    'subsample': [0.8, 1.0],\n",
    "}\n",
    "\n",
    "model = GradientBoostingClassifier(random_state=42)\n",
    "\n",
    "# Perform GridSearchCV\n",
    "grid_search = GridSearchCV(\n",
    "    estimator=model,\n",
    "    param_grid=param_grid,\n",
    "    scoring='accuracy',\n",
    "    cv=5,\n",
    "    n_jobs=-1\n",
    ")\n",
    "\n",
    "print(\"Performing GridSearchCV...\")\n",
    "grid_search.fit(X_resampled, y_resampled)\n",
    "\n",
    "# Retrieve the best model and parameters\n",
    "best_model = grid_search.best_estimator_\n",
    "print(\"Best Parameters:\", grid_search.best_params_)\n",
    "\n",
    "# Make predictions on the test set\n",
    "y_pred = best_model.predict(X_test)\n",
    "y_pred_proba = best_model.predict_proba(X_test)[:, 1]\n",
    "\n",
    "# Evaluate the model\n",
    "print(\"\\nClassification Report:\")\n",
    "print(classification_report(y_test, y_pred))\n",
    "\n",
    "print(\"\\nConfusion Matrix:\")\n",
    "print(confusion_matrix(y_test, y_pred))\n"
   ]
  },
  {
   "cell_type": "code",
   "execution_count": null,
   "metadata": {
    "colab": {
     "base_uri": "https://localhost:8080/",
     "height": 600
    },
    "id": "QS2eVjWTvfPo",
    "outputId": "74b4e862-a66b-4ff6-c303-716d06142a67"
   },
   "outputs": [
    {
     "name": "stdout",
     "output_type": "stream",
     "text": [
      "\n",
      "ROC AUC Score: 0.71\n"
     ]
    },
    {
     "data": {
      "image/png": "[encoded data removed]",
      "text/plain": [
       "<Figure size 800x600 with 1 Axes>"
      ]
     },
     "metadata": {},
     "output_type": "display_data"
    }
   ],
   "source": [
    "# Import necessary libraries\n",
    "from sklearn.metrics import roc_auc_score, roc_curve\n",
    "import matplotlib.pyplot as plt\n",
    "\n",
    "# Compute ROC AUC score\n",
    "roc_auc = roc_auc_score(y_test, y_pred_proba)\n",
    "print(f\"\\nROC AUC Score: {roc_auc:.2f}\")\n",
    "\n",
    "# Plot the ROC curve\n",
    "fpr, tpr, thresholds = roc_curve(y_test, y_pred_proba)\n",
    "plt.figure(figsize=(8, 6))\n",
    "plt.plot(fpr, tpr, label=f\"ROC Curve (AUC = {roc_auc:.2f})\", color=\"blue\")\n",
    "plt.plot([0, 1], [0, 1], color=\"red\", linestyle=\"--\", label=\"Random Chance\")\n",
    "plt.title(\"ROC Curve\")\n",
    "plt.xlabel(\"False Positive Rate\")\n",
    "plt.ylabel(\"True Positive Rate\")\n",
    "plt.legend(loc=\"lower right\")\n",
    "plt.grid()\n",
    "plt.show()\n"
   ]
  },
  {
   "cell_type": "code",
   "execution_count": null,
   "metadata": {
    "id": "Xntg-XyjunSw"
   },
   "outputs": [],
   "source": [
    "'''\n",
    "# Compute and display the ROC AUC score\n",
    "roc_auc = roc_curve(y_test, y_pred_proba)\n",
    "print(f\"\\nROC AUC Score:\", roc_auc)\n",
    "\n",
    "# Plot the ROC curve\n",
    "from sklearn.metrics import roc_curve\n",
    "import matplotlib.pyplot as plt\n",
    "\n",
    "fpr, tpr, thresholds = roc_curve(y_test, y_pred_proba)\n",
    "plt.figure(figsize=(8, 6))\n",
    "plt.plot(fpr, tpr, label=f\"ROC Curve (AUC = {roc_auc:.2f})\", color=\"blue\")\n",
    "plt.plot([0, 1], [0, 1], color=\"red\", linestyle=\"--\", label=\"Random Chance\")\n",
    "plt.title(\"ROC Curve\")\n",
    "plt.xlabel(\"False Positive Rate\")\n",
    "plt.ylabel(\"True Positive Rate\")\n",
    "plt.legend(loc=\"lower right\")\n",
    "plt.grid()\n",
    "plt.show()\n",
    "'''"
   ]
  },
  {
   "cell_type": "markdown",
   "metadata": {
    "id": "sHAsQ115PT9E"
   },
   "source": [
    "## GBOOST (better performance)"
   ]
  },
  {
   "cell_type": "code",
   "execution_count": null,
   "metadata": {
    "id": "wPzdowymPX3P"
   },
   "outputs": [],
   "source": [
    "from sklearn.ensemble import GradientBoostingClassifier\n",
    "from sklearn.metrics import classification_report, confusion_matrix, roc_curve, auc\n",
    "\n",
    "\n",
    "# Calculate class weights\n",
    "class_counts = np.bincount(y_resampled.astype(int))\n",
    "total_samples = len(y_resampled)\n",
    "num_classes = len(class_counts)\n",
    "\n",
    "class_weights = {}\n",
    "for i, count in enumerate(class_counts):\n",
    "    class_weights[i] = total_samples / (num_classes * count)\n",
    "\n",
    "# Assign weights to each sample\n",
    "sample_weights = []\n",
    "for label in y_resampled:\n",
    "    sample_weights.append(class_weights[int(label)])\n",
    "sample_weights = np.array(sample_weights)\n",
    "\n",
    "gbc = GradientBoostingClassifier(random_state=42, loss='log_loss', subsample=0.8, n_estimators=100, learning_rate=0.3, max_depth=7)\n",
    "gbc.fit(X_resampled, y_resampled, sample_weight=sample_weights)\n",
    "y_pred = gbc.predict(X_test)\n",
    "\n",
    "print(\"Classification Report after SMOTE:\")\n",
    "print(classification_report(y_test, y_pred))\n",
    "\n",
    "print(\"Confusion Matrix:\")\n",
    "print(confusion_matrix(y_test, y_pred))"
   ]
  },
  {
   "cell_type": "markdown",
   "source": [
    "NOTE:\n",
    "\n",
    "Parameters;\n",
    "subsample=0.8, n_estimators=500, learning_rate=0.5, max_depth=9\n",
    "\n",
    "Provide the following results below:-\n",
    "\n",
    "\n",
    "![image.png](data:image/png;base64,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)"
   ],
   "metadata": {
    "id": "bIZz05e2blDf"
   }
  },
  {
   "cell_type": "markdown",
   "metadata": {
    "id": "57Z2gwWKO-EB"
   },
   "source": [
    "## RFC"
   ]
  },
  {
   "cell_type": "code",
   "execution_count": null,
   "metadata": {
    "colab": {
     "base_uri": "https://localhost:8080/"
    },
    "id": "JkoGiEcyPA0_",
    "outputId": "577a8d5e-513c-49d3-b5ac-85abccdfd0c3"
   },
   "outputs": [
    {
     "name": "stdout",
     "output_type": "stream",
     "text": [
      "Classification Report (After SMOTE):\n",
      "              precision    recall  f1-score   support\n",
      "\n",
      "         0.0       0.82      0.88      0.85        95\n",
      "         1.0       0.39      0.28      0.33        25\n",
      "\n",
      "    accuracy                           0.76       120\n",
      "   macro avg       0.61      0.58      0.59       120\n",
      "weighted avg       0.73      0.76      0.74       120\n",
      "\n"
     ]
    }
   ],
   "source": [
    "# Train the classifier on the SMOTE-balanced dataset\n",
    "clf_smote = RandomForestClassifier(n_estimators=300, random_state=42)\n",
    "clf_smote.fit(X_resampled, y_resampled)\n",
    "# Predict on the test set\n",
    "y_pred_smote = clf_smote.predict(X_test)\n",
    "# Evaluate the model\n",
    "print(\"Classification Report (After SMOTE):\")\n",
    "print(classification_report(y_test, y_pred_smote))"
   ]
  },
  {
   "cell_type": "markdown",
   "metadata": {
    "id": "xPhJdagXr2rz"
   },
   "source": [
    "\n",
    "\n",
    "---\n",
    "\n"
   ]
  }
 ],
 "metadata": {
  "colab": {
   "provenance": []
  },
  "kernelspec": {
   "display_name": ".venv",
   "language": "python",
   "name": "python3"
  },
  "language_info": {
   "codemirror_mode": {
    "name": "ipython",
    "version": 3
   },
   "file_extension": ".py",
   "mimetype": "text/x-python",
   "name": "python",
   "nbconvert_exporter": "python",
   "pygments_lexer": "ipython3",
   "version": "3.11.1"
  }
 },
 "nbformat": 4,
 "nbformat_minor": 0
}
